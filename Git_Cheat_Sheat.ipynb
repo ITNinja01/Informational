{
 "cells": [
  {
   "cell_type": "markdown",
   "id": "41c22030",
   "metadata": {},
   "source": [
    "# This is a place for common and useful commands that interact with a Git repository. I find example code very helpful, so I will be showing examples from my work. \n",
    "\n",
    "## Information from \"git help\":\n",
    "usage: git [-v | --version] [-h | --help] [-C <path>] [-c <name>=<value>]\n",
    "           [--exec-path[=<path>]] [--html-path] [--man-path] [--info-path]\n",
    "           [-p | --paginate | -P | --no-pager] [--no-replace-objects] [--no-lazy-fetch]\n",
    "           [--no-optional-locks] [--no-advice] [--bare] [--git-dir=<path>]\n",
    "           [--work-tree=<path>] [--namespace=<name>] [--config-env=<name>=<envvar>]\n",
    "           <command> [<args>]\n",
    "\n",
    "These are common Git commands used in various situations:\n",
    "\n",
    "start a working area (see also: git help tutorial)\n",
    "   clone      Clone a repository into a new directory\n",
    "   init       Create an empty Git repository or reinitialize an existing one\n",
    "\n",
    "work on the current change (see also: git help everyday)\n",
    "   add        Add file contents to the index\n",
    "   mv         Move or rename a file, a directory, or a symlink\n",
    "   restore    Restore working tree files\n",
    "   rm         Remove files from the working tree and from the index\n",
    "\n",
    "examine the history and state (see also: git help revisions)\n",
    "   bisect     Use binary search to find the commit that introduced a bug\n",
    "   diff       Show changes between commits, commit and working tree, etc\n",
    "   grep       Print lines matching a pattern\n",
    "   log        Show commit logs\n",
    "   show       Show various types of objects\n",
    "   status     Show the working tree status\n",
    "\n",
    "grow, mark and tweak your common history\n",
    "   backfill   Download missing objects in a partial clone\n",
    "   branch     List, create, or delete branches\n",
    "   commit     Record changes to the repository\n",
    "   merge      Join two or more development histories together\n",
    "   rebase     Reapply commits on top of another base tip\n",
    "   reset      Reset current HEAD to the specified state\n",
    "   switch     Switch branches\n",
    "   tag        Create, list, delete or verify a tag object signed with GPG\n",
    "\n",
    "collaborate (see also: git help workflows)\n",
    "   fetch      Download objects and refs from another repository\n",
    "   pull       Fetch from and integrate with another repository or a local branch\n",
    "   push       Update remote refs along with associated objects\n",
    "\n",
    "'git help -a' and 'git help -g' list available subcommands and some\n",
    "concept guides. See 'git help <command>' or 'git help <concept>'\n",
    "to read about a specific subcommand or concept.\n",
    "See 'git help git' for an overview of the system."
   ]
  },
  {
   "cell_type": "markdown",
   "id": "a6980413",
   "metadata": {},
   "source": [
    "## What is the different between checking out and switching to a branch?\n",
    "\n",
    "**`git checkout`** and **`git switch`** can both be used to change branches, but there are differences:\n",
    "\n",
    "- `git checkout` is an older, multi-purpose command. It can switch branches, restore files, or even create new branches. Its syntax can be confusing because it does many things.\n",
    "- `git switch` is newer (added in Git 2.23) and is dedicated only to switching branches. It is simpler and less error-prone for branch operations.\n",
    "\n",
    "**Summary:**  \n",
    "- Use `git switch <branch>` to change branches (recommended for clarity).\n",
    "- Use `git checkout <branch>` for older workflows or when you need its extra features (like restoring files)."
   ]
  },
  {
   "cell_type": "code",
   "execution_count": null,
   "id": "8cf400f7",
   "metadata": {},
   "outputs": [],
   "source": [
    "#!powershell\n",
    "#This command will find the remote branches in a repository\n",
    "git branch -r"
   ]
  },
  {
   "cell_type": "code",
   "execution_count": null,
   "id": "2e53494c",
   "metadata": {},
   "outputs": [],
   "source": [
    "#!powershell\n",
    "#Workflow to create a new branch and send changes to remote repository\n",
    "git checkout -b new-branch-name  # Create and switch to a new branch\n",
    "git add .                          # Stage changes\n",
    "git commit -m \"Your commit message\" # Commit changes\n",
    "git push -u origin new-branch-name # Push the new branch to remote and set upstream   "
   ]
  },
  {
   "cell_type": "code",
   "execution_count": null,
   "id": "7de852f9",
   "metadata": {},
   "outputs": [],
   "source": [
    "#!powershell\n",
    "#Seeing who worked on code using git blame\n",
    "git blame file\n",
    "#q to exit"
   ]
  },
  {
   "cell_type": "code",
   "execution_count": null,
   "id": "0df5c119",
   "metadata": {},
   "outputs": [],
   "source": [
    "#!powershell\n",
    "#Committing with a different user name and email\n",
    " git commit --author \"ITNinja01 <dwillson1@hotmail.com>\" -m  \"Message\""
   ]
  },
  {
   "cell_type": "code",
   "execution_count": null,
   "id": "d8d8695a",
   "metadata": {},
   "outputs": [],
   "source": [
    "#!powershell\n",
    "#See who has done what in a repository\n",
    "git shortlog -s -n"
   ]
  }
 ],
 "metadata": {
  "kernelspec": {
   "display_name": ".NET (C#)",
   "language": "C#",
   "name": ".net-csharp"
  },
  "language_info": {
   "name": "polyglot-notebook"
  },
  "polyglot_notebook": {
   "kernelInfo": {
    "defaultKernelName": "csharp",
    "items": [
     {
      "aliases": [],
      "name": "csharp"
     }
    ]
   }
  }
 },
 "nbformat": 4,
 "nbformat_minor": 5
}
